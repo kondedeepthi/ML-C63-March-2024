{
 "cells": [
  {
   "cell_type": "code",
   "execution_count": 1,
   "id": "34e4cd96-d25b-48c3-9217-60a77107aee6",
   "metadata": {},
   "outputs": [],
   "source": [
    "import pandas as pd"
   ]
  },
  {
   "cell_type": "code",
   "execution_count": 2,
   "id": "92ede510-a276-4573-a8e5-ad879c64b151",
   "metadata": {},
   "outputs": [],
   "source": [
    "df = pd.read_csv('loan.csv', low_memory=False)"
   ]
  },
  {
   "cell_type": "code",
   "execution_count": 3,
   "id": "dab54e74-c4c3-41d6-8f5d-065803e48c94",
   "metadata": {},
   "outputs": [
    {
     "name": "stdout",
     "output_type": "stream",
     "text": [
      "['id', 'member_id', 'loan_amnt', 'funded_amnt', 'funded_amnt_inv', 'term', 'int_rate', 'installment', 'grade', 'sub_grade', 'emp_title', 'emp_length', 'home_ownership', 'annual_inc', 'verification_status', 'issue_d', 'loan_status', 'pymnt_plan', 'url', 'desc', 'purpose', 'title', 'zip_code', 'addr_state', 'dti', 'delinq_2yrs', 'earliest_cr_line', 'inq_last_6mths', 'mths_since_last_delinq', 'mths_since_last_record', 'open_acc', 'pub_rec', 'revol_bal', 'revol_util', 'total_acc', 'initial_list_status', 'out_prncp', 'out_prncp_inv', 'total_pymnt', 'total_pymnt_inv', 'total_rec_prncp', 'total_rec_int', 'total_rec_late_fee', 'recoveries', 'collection_recovery_fee', 'last_pymnt_d', 'last_pymnt_amnt', 'next_pymnt_d', 'last_credit_pull_d', 'collections_12_mths_ex_med', 'mths_since_last_major_derog', 'policy_code', 'application_type', 'annual_inc_joint', 'dti_joint', 'verification_status_joint', 'acc_now_delinq', 'tot_coll_amt', 'tot_cur_bal', 'open_acc_6m', 'open_il_6m', 'open_il_12m', 'open_il_24m', 'mths_since_rcnt_il', 'total_bal_il', 'il_util', 'open_rv_12m', 'open_rv_24m', 'max_bal_bc', 'all_util', 'total_rev_hi_lim', 'inq_fi', 'total_cu_tl', 'inq_last_12m', 'acc_open_past_24mths', 'avg_cur_bal', 'bc_open_to_buy', 'bc_util', 'chargeoff_within_12_mths', 'delinq_amnt', 'mo_sin_old_il_acct', 'mo_sin_old_rev_tl_op', 'mo_sin_rcnt_rev_tl_op', 'mo_sin_rcnt_tl', 'mort_acc', 'mths_since_recent_bc', 'mths_since_recent_bc_dlq', 'mths_since_recent_inq', 'mths_since_recent_revol_delinq', 'num_accts_ever_120_pd', 'num_actv_bc_tl', 'num_actv_rev_tl', 'num_bc_sats', 'num_bc_tl', 'num_il_tl', 'num_op_rev_tl', 'num_rev_accts', 'num_rev_tl_bal_gt_0', 'num_sats', 'num_tl_120dpd_2m', 'num_tl_30dpd', 'num_tl_90g_dpd_24m', 'num_tl_op_past_12m', 'pct_tl_nvr_dlq', 'percent_bc_gt_75', 'pub_rec_bankruptcies', 'tax_liens', 'tot_hi_cred_lim', 'total_bal_ex_mort', 'total_bc_limit', 'total_il_high_credit_limit']\n"
     ]
    }
   ],
   "source": [
    "# Get the list of columns\n",
    "print(df.columns.tolist())"
   ]
  },
  {
   "cell_type": "code",
   "execution_count": 4,
   "id": "a35c3e5f-cfc8-4756-8e53-ca5f7e3bda62",
   "metadata": {},
   "outputs": [
    {
     "name": "stdout",
     "output_type": "stream",
     "text": [
      "        id  member_id  loan_amnt  funded_amnt  funded_amnt_inv        term  \\\n",
      "0  1077501    1296599       5000         5000           4975.0   36 months   \n",
      "1  1077430    1314167       2500         2500           2500.0   60 months   \n",
      "2  1077175    1313524       2400         2400           2400.0   36 months   \n",
      "3  1076863    1277178      10000        10000          10000.0   36 months   \n",
      "4  1075358    1311748       3000         3000           3000.0   60 months   \n",
      "\n",
      "  int_rate  installment grade sub_grade  ... num_tl_90g_dpd_24m  \\\n",
      "0   10.65%       162.87     B        B2  ...                NaN   \n",
      "1   15.27%        59.83     C        C4  ...                NaN   \n",
      "2   15.96%        84.33     C        C5  ...                NaN   \n",
      "3   13.49%       339.31     C        C1  ...                NaN   \n",
      "4   12.69%        67.79     B        B5  ...                NaN   \n",
      "\n",
      "  num_tl_op_past_12m pct_tl_nvr_dlq  percent_bc_gt_75 pub_rec_bankruptcies  \\\n",
      "0                NaN            NaN               NaN                  0.0   \n",
      "1                NaN            NaN               NaN                  0.0   \n",
      "2                NaN            NaN               NaN                  0.0   \n",
      "3                NaN            NaN               NaN                  0.0   \n",
      "4                NaN            NaN               NaN                  0.0   \n",
      "\n",
      "  tax_liens tot_hi_cred_lim total_bal_ex_mort total_bc_limit  \\\n",
      "0       0.0             NaN               NaN            NaN   \n",
      "1       0.0             NaN               NaN            NaN   \n",
      "2       0.0             NaN               NaN            NaN   \n",
      "3       0.0             NaN               NaN            NaN   \n",
      "4       0.0             NaN               NaN            NaN   \n",
      "\n",
      "  total_il_high_credit_limit  \n",
      "0                        NaN  \n",
      "1                        NaN  \n",
      "2                        NaN  \n",
      "3                        NaN  \n",
      "4                        NaN  \n",
      "\n",
      "[5 rows x 111 columns]\n"
     ]
    }
   ],
   "source": [
    "# Display the first few rows\n",
    "print(df.head())"
   ]
  },
  {
   "cell_type": "code",
   "execution_count": 5,
   "id": "3b054c38-bffc-4adb-b919-12faee83d39d",
   "metadata": {},
   "outputs": [
    {
     "name": "stdout",
     "output_type": "stream",
     "text": [
      "                 id     member_id     loan_amnt   funded_amnt  \\\n",
      "count  3.971700e+04  3.971700e+04  39717.000000  39717.000000   \n",
      "mean   6.831319e+05  8.504636e+05  11219.443815  10947.713196   \n",
      "std    2.106941e+05  2.656783e+05   7456.670694   7187.238670   \n",
      "min    5.473400e+04  7.069900e+04    500.000000    500.000000   \n",
      "25%    5.162210e+05  6.667800e+05   5500.000000   5400.000000   \n",
      "50%    6.656650e+05  8.508120e+05  10000.000000   9600.000000   \n",
      "75%    8.377550e+05  1.047339e+06  15000.000000  15000.000000   \n",
      "max    1.077501e+06  1.314167e+06  35000.000000  35000.000000   \n",
      "\n",
      "       funded_amnt_inv   installment    annual_inc           dti  \\\n",
      "count     39717.000000  39717.000000  3.971700e+04  39717.000000   \n",
      "mean      10397.448868    324.561922  6.896893e+04     13.315130   \n",
      "std        7128.450439    208.874874  6.379377e+04      6.678594   \n",
      "min           0.000000     15.690000  4.000000e+03      0.000000   \n",
      "25%        5000.000000    167.020000  4.040400e+04      8.170000   \n",
      "50%        8975.000000    280.220000  5.900000e+04     13.400000   \n",
      "75%       14400.000000    430.780000  8.230000e+04     18.600000   \n",
      "max       35000.000000   1305.190000  6.000000e+06     29.990000   \n",
      "\n",
      "        delinq_2yrs  inq_last_6mths  ...  num_tl_90g_dpd_24m  \\\n",
      "count  39717.000000    39717.000000  ...                 0.0   \n",
      "mean       0.146512        0.869200  ...                 NaN   \n",
      "std        0.491812        1.070219  ...                 NaN   \n",
      "min        0.000000        0.000000  ...                 NaN   \n",
      "25%        0.000000        0.000000  ...                 NaN   \n",
      "50%        0.000000        1.000000  ...                 NaN   \n",
      "75%        0.000000        1.000000  ...                 NaN   \n",
      "max       11.000000        8.000000  ...                 NaN   \n",
      "\n",
      "       num_tl_op_past_12m  pct_tl_nvr_dlq  percent_bc_gt_75  \\\n",
      "count                 0.0             0.0               0.0   \n",
      "mean                  NaN             NaN               NaN   \n",
      "std                   NaN             NaN               NaN   \n",
      "min                   NaN             NaN               NaN   \n",
      "25%                   NaN             NaN               NaN   \n",
      "50%                   NaN             NaN               NaN   \n",
      "75%                   NaN             NaN               NaN   \n",
      "max                   NaN             NaN               NaN   \n",
      "\n",
      "       pub_rec_bankruptcies  tax_liens  tot_hi_cred_lim  total_bal_ex_mort  \\\n",
      "count          39020.000000    39678.0              0.0                0.0   \n",
      "mean               0.043260        0.0              NaN                NaN   \n",
      "std                0.204324        0.0              NaN                NaN   \n",
      "min                0.000000        0.0              NaN                NaN   \n",
      "25%                0.000000        0.0              NaN                NaN   \n",
      "50%                0.000000        0.0              NaN                NaN   \n",
      "75%                0.000000        0.0              NaN                NaN   \n",
      "max                2.000000        0.0              NaN                NaN   \n",
      "\n",
      "       total_bc_limit  total_il_high_credit_limit  \n",
      "count             0.0                         0.0  \n",
      "mean              NaN                         NaN  \n",
      "std               NaN                         NaN  \n",
      "min               NaN                         NaN  \n",
      "25%               NaN                         NaN  \n",
      "50%               NaN                         NaN  \n",
      "75%               NaN                         NaN  \n",
      "max               NaN                         NaN  \n",
      "\n",
      "[8 rows x 87 columns]\n"
     ]
    }
   ],
   "source": [
    "# Generate descriptive statistics\n",
    "print(df.describe())"
   ]
  },
  {
   "cell_type": "code",
   "execution_count": 6,
   "id": "25cf0422-667c-4b5a-ac24-8d36bd45b365",
   "metadata": {},
   "outputs": [],
   "source": [
    "import matplotlib.pyplot as plt\n",
    "import seaborn as sns"
   ]
  },
  {
   "cell_type": "code",
   "execution_count": 7,
   "id": "94055f54-9d62-4adb-a9d6-8fb9e5fc5f2c",
   "metadata": {},
   "outputs": [
    {
     "name": "stdout",
     "output_type": "stream",
     "text": [
      "            id  member_id  loan_amnt  funded_amnt  funded_amnt_inv  \\\n",
      "1      1077430    1314167       2500         2500           2500.0   \n",
      "8      1071795    1306957       5600         5600           5600.0   \n",
      "9      1071570    1306721       5375         5375           5350.0   \n",
      "12     1064687    1298717       9000         9000           9000.0   \n",
      "14     1069057    1303503      10000        10000          10000.0   \n",
      "...        ...        ...        ...          ...              ...   \n",
      "39667   118823     118026       2500         2500            675.0   \n",
      "39668   118533     117783       2500         2500            825.0   \n",
      "39669   118523     118519       6500         6500            225.0   \n",
      "39678   113179     113093       1000         1000            950.0   \n",
      "39688   111227     111223      20000        20000           2800.0   \n",
      "\n",
      "             term int_rate  installment grade sub_grade  ...  \\\n",
      "1       60 months   15.27%        59.83     C        C4  ...   \n",
      "8       60 months   21.28%       152.39     F        F2  ...   \n",
      "9       60 months   12.69%       121.45     B        B5  ...   \n",
      "12      36 months   13.49%       305.38     C        C1  ...   \n",
      "14      36 months   10.65%       325.74     B        B2  ...   \n",
      "...           ...      ...          ...   ...       ...  ...   \n",
      "39667   36 months   12.80%        84.00     D        D4  ...   \n",
      "39668   36 months    9.64%        80.26     B        B4  ...   \n",
      "39669   36 months   15.01%       225.37     F        F1  ...   \n",
      "39678   36 months   10.59%        32.55     C        C2  ...   \n",
      "39688   36 months   13.43%       678.08     E        E1  ...   \n",
      "\n",
      "      num_tl_90g_dpd_24m num_tl_op_past_12m pct_tl_nvr_dlq  percent_bc_gt_75  \\\n",
      "1                    NaN                NaN            NaN               NaN   \n",
      "8                    NaN                NaN            NaN               NaN   \n",
      "9                    NaN                NaN            NaN               NaN   \n",
      "12                   NaN                NaN            NaN               NaN   \n",
      "14                   NaN                NaN            NaN               NaN   \n",
      "...                  ...                ...            ...               ...   \n",
      "39667                NaN                NaN            NaN               NaN   \n",
      "39668                NaN                NaN            NaN               NaN   \n",
      "39669                NaN                NaN            NaN               NaN   \n",
      "39678                NaN                NaN            NaN               NaN   \n",
      "39688                NaN                NaN            NaN               NaN   \n",
      "\n",
      "      pub_rec_bankruptcies tax_liens tot_hi_cred_lim total_bal_ex_mort  \\\n",
      "1                      0.0       0.0             NaN               NaN   \n",
      "8                      0.0       0.0             NaN               NaN   \n",
      "9                      0.0       0.0             NaN               NaN   \n",
      "12                     0.0       0.0             NaN               NaN   \n",
      "14                     0.0       0.0             NaN               NaN   \n",
      "...                    ...       ...             ...               ...   \n",
      "39667                  NaN       0.0             NaN               NaN   \n",
      "39668                  NaN       0.0             NaN               NaN   \n",
      "39669                  NaN       0.0             NaN               NaN   \n",
      "39678                  NaN       0.0             NaN               NaN   \n",
      "39688                  NaN       NaN             NaN               NaN   \n",
      "\n",
      "      total_bc_limit total_il_high_credit_limit  \n",
      "1                NaN                        NaN  \n",
      "8                NaN                        NaN  \n",
      "9                NaN                        NaN  \n",
      "12               NaN                        NaN  \n",
      "14               NaN                        NaN  \n",
      "...              ...                        ...  \n",
      "39667            NaN                        NaN  \n",
      "39668            NaN                        NaN  \n",
      "39669            NaN                        NaN  \n",
      "39678            NaN                        NaN  \n",
      "39688            NaN                        NaN  \n",
      "\n",
      "[5627 rows x 111 columns]\n"
     ]
    }
   ],
   "source": [
    "defaulters = df[df['loan_status'] == 'Charged Off']\n",
    "print(defaulters)"
   ]
  },
  {
   "cell_type": "code",
   "execution_count": 8,
   "id": "b6cdf156-d2ac-4ce3-8625-9ac403a377b9",
   "metadata": {},
   "outputs": [
    {
     "data": {
      "image/png": "[encoded data removed]",
      "text/plain": [
       "<Figure size 640x480 with 1 Axes>"
      ]
     },
     "metadata": {},
     "output_type": "display_data"
    }
   ],
   "source": [
    "plt.hist([df['loan_status'], df['recoveries']], bins=10, label=['loan_status', 'recoveries'])\n",
    "plt.xlabel('Values')\n",
    "plt.ylabel('Frequency')\n",
    "plt.title('Histogram of {} and {}'.format('loan_status', 'recoveries'))\n",
    "plt.legend()\n",
    "plt.show()"
   ]
  },
  {
   "cell_type": "code",
   "execution_count": 9,
   "id": "2f404b55-1ac2-4f50-88a1-8bdbd8a990a7",
   "metadata": {},
   "outputs": [
    {
     "name": "stdout",
     "output_type": "stream",
     "text": [
      "3307     2.0\n",
      "8140     2.0\n",
      "14127    2.0\n",
      "18724    2.0\n",
      "23127    2.0\n",
      "23381    2.0\n",
      "31554    2.0\n",
      "Name: pub_rec_bankruptcies, dtype: float64\n"
     ]
    }
   ],
   "source": [
    "column = df['pub_rec_bankruptcies']\n",
    "filtered_values = column[column > 1]\n",
    "print(filtered_values)"
   ]
  },
  {
   "cell_type": "code",
   "execution_count": 10,
   "id": "09cde858-1473-4112-b9fe-a07875a12099",
   "metadata": {},
   "outputs": [
    {
     "name": "stdout",
     "output_type": "stream",
     "text": [
      "            id  member_id  loan_amnt  funded_amnt  funded_amnt_inv  \\\n",
      "0      1077501    1296599       5000         5000           4975.0   \n",
      "1      1077430    1314167       2500         2500           2500.0   \n",
      "2      1077175    1313524       2400         2400           2400.0   \n",
      "3      1076863    1277178      10000        10000          10000.0   \n",
      "4      1075358    1311748       3000         3000           3000.0   \n",
      "...        ...        ...        ...          ...              ...   \n",
      "39712    92187      92174       2500         2500           1075.0   \n",
      "39713    90665      90607       8500         8500            875.0   \n",
      "39714    90395      90390       5000         5000           1325.0   \n",
      "39715    90376      89243       5000         5000            650.0   \n",
      "39716    87023      86999       7500         7500            800.0   \n",
      "\n",
      "             term int_rate  installment grade sub_grade  ... next_pymnt_d  \\\n",
      "0       36 months   10.65%       162.87     B        B2  ...          NaN   \n",
      "1       60 months   15.27%        59.83     C        C4  ...          NaN   \n",
      "2       36 months   15.96%        84.33     C        C5  ...          NaN   \n",
      "3       36 months   13.49%       339.31     C        C1  ...          NaN   \n",
      "4       60 months   12.69%        67.79     B        B5  ...       Jun-16   \n",
      "...           ...      ...          ...   ...       ...  ...          ...   \n",
      "39712   36 months    8.07%        78.42     A        A4  ...          NaN   \n",
      "39713   36 months   10.28%       275.38     C        C1  ...          NaN   \n",
      "39714   36 months    8.07%       156.84     A        A4  ...          NaN   \n",
      "39715   36 months    7.43%       155.38     A        A2  ...          NaN   \n",
      "39716   36 months   13.75%       255.43     E        E2  ...          NaN   \n",
      "\n",
      "      last_credit_pull_d collections_12_mths_ex_med  policy_code  \\\n",
      "0                 May-16                        0.0            1   \n",
      "1                 Sep-13                        0.0            1   \n",
      "2                 May-16                        0.0            1   \n",
      "3                 Apr-16                        0.0            1   \n",
      "4                 May-16                        0.0            1   \n",
      "...                  ...                        ...          ...   \n",
      "39712             Jun-10                        NaN            1   \n",
      "39713             Jul-10                        NaN            1   \n",
      "39714             Jun-07                        NaN            1   \n",
      "39715             Jun-07                        NaN            1   \n",
      "39716             Jun-10                        NaN            1   \n",
      "\n",
      "      application_type acc_now_delinq chargeoff_within_12_mths delinq_amnt  \\\n",
      "0           INDIVIDUAL              0                      0.0           0   \n",
      "1           INDIVIDUAL              0                      0.0           0   \n",
      "2           INDIVIDUAL              0                      0.0           0   \n",
      "3           INDIVIDUAL              0                      0.0           0   \n",
      "4           INDIVIDUAL              0                      0.0           0   \n",
      "...                ...            ...                      ...         ...   \n",
      "39712       INDIVIDUAL              0                      NaN           0   \n",
      "39713       INDIVIDUAL              0                      NaN           0   \n",
      "39714       INDIVIDUAL              0                      NaN           0   \n",
      "39715       INDIVIDUAL              0                      NaN           0   \n",
      "39716       INDIVIDUAL              0                      NaN           0   \n",
      "\n",
      "      pub_rec_bankruptcies tax_liens  \n",
      "0                      0.0       0.0  \n",
      "1                      0.0       0.0  \n",
      "2                      0.0       0.0  \n",
      "3                      0.0       0.0  \n",
      "4                      0.0       0.0  \n",
      "...                    ...       ...  \n",
      "39712                  NaN       NaN  \n",
      "39713                  NaN       NaN  \n",
      "39714                  NaN       NaN  \n",
      "39715                  NaN       NaN  \n",
      "39716                  NaN       NaN  \n",
      "\n",
      "[39717 rows x 57 columns]\n"
     ]
    }
   ],
   "source": [
    "# Drop rows with any NaN values\n",
    "df_cleaned = df.dropna(axis=1, how='all')\n",
    "print(df_cleaned)"
   ]
  },
  {
   "cell_type": "code",
   "execution_count": 11,
   "id": "750c58f8-2686-41cf-a45b-47ad31e30379",
   "metadata": {},
   "outputs": [],
   "source": [
    "df_cleaned_zeros_blanks = df_cleaned.loc[:, (df_cleaned != 0).any(axis=0)]"
   ]
  },
  {
   "cell_type": "code",
   "execution_count": 12,
   "id": "dc0debeb-25dc-4a61-b217-699f2540df41",
   "metadata": {},
   "outputs": [
    {
     "name": "stdout",
     "output_type": "stream",
     "text": [
      "            id  member_id  loan_amnt  funded_amnt  funded_amnt_inv  \\\n",
      "0      1077501    1296599       5000         5000           4975.0   \n",
      "1      1077430    1314167       2500         2500           2500.0   \n",
      "2      1077175    1313524       2400         2400           2400.0   \n",
      "3      1076863    1277178      10000        10000          10000.0   \n",
      "4      1075358    1311748       3000         3000           3000.0   \n",
      "...        ...        ...        ...          ...              ...   \n",
      "39712    92187      92174       2500         2500           1075.0   \n",
      "39713    90665      90607       8500         8500            875.0   \n",
      "39714    90395      90390       5000         5000           1325.0   \n",
      "39715    90376      89243       5000         5000            650.0   \n",
      "39716    87023      86999       7500         7500            800.0   \n",
      "\n",
      "             term int_rate  installment grade sub_grade  ... last_pymnt_d  \\\n",
      "0       36 months   10.65%       162.87     B        B2  ...       Jan-15   \n",
      "1       60 months   15.27%        59.83     C        C4  ...       Apr-13   \n",
      "2       36 months   15.96%        84.33     C        C5  ...       Jun-14   \n",
      "3       36 months   13.49%       339.31     C        C1  ...       Jan-15   \n",
      "4       60 months   12.69%        67.79     B        B5  ...       May-16   \n",
      "...           ...      ...          ...   ...       ...  ...          ...   \n",
      "39712   36 months    8.07%        78.42     A        A4  ...       Jul-10   \n",
      "39713   36 months   10.28%       275.38     C        C1  ...       Jul-10   \n",
      "39714   36 months    8.07%       156.84     A        A4  ...       Apr-08   \n",
      "39715   36 months    7.43%       155.38     A        A2  ...       Jan-08   \n",
      "39716   36 months   13.75%       255.43     E        E2  ...       Jun-10   \n",
      "\n",
      "      last_pymnt_amnt next_pymnt_d  last_credit_pull_d  \\\n",
      "0              171.62          NaN              May-16   \n",
      "1              119.66          NaN              Sep-13   \n",
      "2              649.91          NaN              May-16   \n",
      "3              357.48          NaN              Apr-16   \n",
      "4               67.79       Jun-16              May-16   \n",
      "...               ...          ...                 ...   \n",
      "39712           80.90          NaN              Jun-10   \n",
      "39713          281.94          NaN              Jul-10   \n",
      "39714            0.00          NaN              Jun-07   \n",
      "39715            0.00          NaN              Jun-07   \n",
      "39716          256.59          NaN              Jun-10   \n",
      "\n",
      "      collections_12_mths_ex_med policy_code application_type  \\\n",
      "0                            0.0           1       INDIVIDUAL   \n",
      "1                            0.0           1       INDIVIDUAL   \n",
      "2                            0.0           1       INDIVIDUAL   \n",
      "3                            0.0           1       INDIVIDUAL   \n",
      "4                            0.0           1       INDIVIDUAL   \n",
      "...                          ...         ...              ...   \n",
      "39712                        NaN           1       INDIVIDUAL   \n",
      "39713                        NaN           1       INDIVIDUAL   \n",
      "39714                        NaN           1       INDIVIDUAL   \n",
      "39715                        NaN           1       INDIVIDUAL   \n",
      "39716                        NaN           1       INDIVIDUAL   \n",
      "\n",
      "      chargeoff_within_12_mths pub_rec_bankruptcies tax_liens  \n",
      "0                          0.0                  0.0       0.0  \n",
      "1                          0.0                  0.0       0.0  \n",
      "2                          0.0                  0.0       0.0  \n",
      "3                          0.0                  0.0       0.0  \n",
      "4                          0.0                  0.0       0.0  \n",
      "...                        ...                  ...       ...  \n",
      "39712                      NaN                  NaN       NaN  \n",
      "39713                      NaN                  NaN       NaN  \n",
      "39714                      NaN                  NaN       NaN  \n",
      "39715                      NaN                  NaN       NaN  \n",
      "39716                      NaN                  NaN       NaN  \n",
      "\n",
      "[39717 rows x 55 columns]\n"
     ]
    }
   ],
   "source": [
    "# Remove the rows with all zeros\n",
    "print(df_cleaned_zeros_blanks)"
   ]
  },
  {
   "cell_type": "code",
   "execution_count": 13,
   "id": "69810d90-5262-4c67-b113-2317546f7322",
   "metadata": {},
   "outputs": [
    {
     "name": "stderr",
     "output_type": "stream",
     "text": [
      "/var/folders/pd/d_czx5p50yv66byls9q2nmn00000gn/T/ipykernel_43945/2648290098.py:3: SettingWithCopyWarning: \n",
      "A value is trying to be set on a copy of a slice from a DataFrame\n",
      "\n",
      "See the caveats in the documentation: https://pandas.pydata.org/pandas-docs/stable/user_guide/indexing.html#returning-a-view-versus-a-copy\n",
      "  df_cleaned_zeros_blanks.replace(0.0, np.nan, inplace=True)\n"
     ]
    }
   ],
   "source": [
    "import numpy as np\n",
    "# Replace 0.0 with NaN\n",
    "df_cleaned_zeros_blanks.replace(0.0, np.nan, inplace=True)"
   ]
  },
  {
   "cell_type": "code",
   "execution_count": 14,
   "id": "6e81749f-bc62-4ba7-bcf0-6c586dbbdb66",
   "metadata": {},
   "outputs": [
    {
     "name": "stdout",
     "output_type": "stream",
     "text": [
      "            id  member_id  loan_amnt  funded_amnt  funded_amnt_inv  \\\n",
      "0      1077501    1296599       5000         5000           4975.0   \n",
      "1      1077430    1314167       2500         2500           2500.0   \n",
      "2      1077175    1313524       2400         2400           2400.0   \n",
      "3      1076863    1277178      10000        10000          10000.0   \n",
      "4      1075358    1311748       3000         3000           3000.0   \n",
      "...        ...        ...        ...          ...              ...   \n",
      "39712    92187      92174       2500         2500           1075.0   \n",
      "39713    90665      90607       8500         8500            875.0   \n",
      "39714    90395      90390       5000         5000           1325.0   \n",
      "39715    90376      89243       5000         5000            650.0   \n",
      "39716    87023      86999       7500         7500            800.0   \n",
      "\n",
      "             term int_rate  installment grade sub_grade  ... last_pymnt_d  \\\n",
      "0       36 months   10.65%       162.87     B        B2  ...       Jan-15   \n",
      "1       60 months   15.27%        59.83     C        C4  ...       Apr-13   \n",
      "2       36 months   15.96%        84.33     C        C5  ...       Jun-14   \n",
      "3       36 months   13.49%       339.31     C        C1  ...       Jan-15   \n",
      "4       60 months   12.69%        67.79     B        B5  ...       May-16   \n",
      "...           ...      ...          ...   ...       ...  ...          ...   \n",
      "39712   36 months    8.07%        78.42     A        A4  ...       Jul-10   \n",
      "39713   36 months   10.28%       275.38     C        C1  ...       Jul-10   \n",
      "39714   36 months    8.07%       156.84     A        A4  ...       Apr-08   \n",
      "39715   36 months    7.43%       155.38     A        A2  ...       Jan-08   \n",
      "39716   36 months   13.75%       255.43     E        E2  ...       Jun-10   \n",
      "\n",
      "      last_pymnt_amnt next_pymnt_d  last_credit_pull_d  \\\n",
      "0              171.62          NaN              May-16   \n",
      "1              119.66          NaN              Sep-13   \n",
      "2              649.91          NaN              May-16   \n",
      "3              357.48          NaN              Apr-16   \n",
      "4               67.79       Jun-16              May-16   \n",
      "...               ...          ...                 ...   \n",
      "39712           80.90          NaN              Jun-10   \n",
      "39713          281.94          NaN              Jul-10   \n",
      "39714             NaN          NaN              Jun-07   \n",
      "39715             NaN          NaN              Jun-07   \n",
      "39716          256.59          NaN              Jun-10   \n",
      "\n",
      "      collections_12_mths_ex_med policy_code application_type  \\\n",
      "0                            NaN           1       INDIVIDUAL   \n",
      "1                            NaN           1       INDIVIDUAL   \n",
      "2                            NaN           1       INDIVIDUAL   \n",
      "3                            NaN           1       INDIVIDUAL   \n",
      "4                            NaN           1       INDIVIDUAL   \n",
      "...                          ...         ...              ...   \n",
      "39712                        NaN           1       INDIVIDUAL   \n",
      "39713                        NaN           1       INDIVIDUAL   \n",
      "39714                        NaN           1       INDIVIDUAL   \n",
      "39715                        NaN           1       INDIVIDUAL   \n",
      "39716                        NaN           1       INDIVIDUAL   \n",
      "\n",
      "      chargeoff_within_12_mths pub_rec_bankruptcies tax_liens  \n",
      "0                          NaN                  NaN       NaN  \n",
      "1                          NaN                  NaN       NaN  \n",
      "2                          NaN                  NaN       NaN  \n",
      "3                          NaN                  NaN       NaN  \n",
      "4                          NaN                  NaN       NaN  \n",
      "...                        ...                  ...       ...  \n",
      "39712                      NaN                  NaN       NaN  \n",
      "39713                      NaN                  NaN       NaN  \n",
      "39714                      NaN                  NaN       NaN  \n",
      "39715                      NaN                  NaN       NaN  \n",
      "39716                      NaN                  NaN       NaN  \n",
      "\n",
      "[39717 rows x 55 columns]\n"
     ]
    }
   ],
   "source": [
    "print(df_cleaned_zeros_blanks)"
   ]
  },
  {
   "cell_type": "code",
   "execution_count": 15,
   "id": "b884d4b7-1d85-4129-a4bd-e4c3e5649433",
   "metadata": {},
   "outputs": [
    {
     "name": "stdout",
     "output_type": "stream",
     "text": [
      "            id  member_id  loan_amnt  funded_amnt  funded_amnt_inv  \\\n",
      "0      1077501    1296599       5000         5000           4975.0   \n",
      "1      1077430    1314167       2500         2500           2500.0   \n",
      "2      1077175    1313524       2400         2400           2400.0   \n",
      "3      1076863    1277178      10000        10000          10000.0   \n",
      "4      1075358    1311748       3000         3000           3000.0   \n",
      "...        ...        ...        ...          ...              ...   \n",
      "39712    92187      92174       2500         2500           1075.0   \n",
      "39713    90665      90607       8500         8500            875.0   \n",
      "39714    90395      90390       5000         5000           1325.0   \n",
      "39715    90376      89243       5000         5000            650.0   \n",
      "39716    87023      86999       7500         7500            800.0   \n",
      "\n",
      "             term int_rate  installment grade sub_grade  ...  \\\n",
      "0       36 months   10.65%       162.87     B        B2  ...   \n",
      "1       60 months   15.27%        59.83     C        C4  ...   \n",
      "2       36 months   15.96%        84.33     C        C5  ...   \n",
      "3       36 months   13.49%       339.31     C        C1  ...   \n",
      "4       60 months   12.69%        67.79     B        B5  ...   \n",
      "...           ...      ...          ...   ...       ...  ...   \n",
      "39712   36 months    8.07%        78.42     A        A4  ...   \n",
      "39713   36 months   10.28%       275.38     C        C1  ...   \n",
      "39714   36 months    8.07%       156.84     A        A4  ...   \n",
      "39715   36 months    7.43%       155.38     A        A2  ...   \n",
      "39716   36 months   13.75%       255.43     E        E2  ...   \n",
      "\n",
      "      total_rec_late_fee recoveries collection_recovery_fee  last_pymnt_d  \\\n",
      "0                    NaN        NaN                     NaN        Jan-15   \n",
      "1                    NaN     117.08                    1.11        Apr-13   \n",
      "2                    NaN        NaN                     NaN        Jun-14   \n",
      "3                  16.97        NaN                     NaN        Jan-15   \n",
      "4                    NaN        NaN                     NaN        May-16   \n",
      "...                  ...        ...                     ...           ...   \n",
      "39712                NaN        NaN                     NaN        Jul-10   \n",
      "39713                NaN        NaN                     NaN        Jul-10   \n",
      "39714                NaN        NaN                     NaN        Apr-08   \n",
      "39715                NaN        NaN                     NaN        Jan-08   \n",
      "39716                NaN        NaN                     NaN        Jun-10   \n",
      "\n",
      "      last_pymnt_amnt next_pymnt_d last_credit_pull_d policy_code  \\\n",
      "0              171.62          NaN             May-16           1   \n",
      "1              119.66          NaN             Sep-13           1   \n",
      "2              649.91          NaN             May-16           1   \n",
      "3              357.48          NaN             Apr-16           1   \n",
      "4               67.79       Jun-16             May-16           1   \n",
      "...               ...          ...                ...         ...   \n",
      "39712           80.90          NaN             Jun-10           1   \n",
      "39713          281.94          NaN             Jul-10           1   \n",
      "39714             NaN          NaN             Jun-07           1   \n",
      "39715             NaN          NaN             Jun-07           1   \n",
      "39716          256.59          NaN             Jun-10           1   \n",
      "\n",
      "      application_type pub_rec_bankruptcies  \n",
      "0           INDIVIDUAL                  NaN  \n",
      "1           INDIVIDUAL                  NaN  \n",
      "2           INDIVIDUAL                  NaN  \n",
      "3           INDIVIDUAL                  NaN  \n",
      "4           INDIVIDUAL                  NaN  \n",
      "...                ...                  ...  \n",
      "39712       INDIVIDUAL                  NaN  \n",
      "39713       INDIVIDUAL                  NaN  \n",
      "39714       INDIVIDUAL                  NaN  \n",
      "39715       INDIVIDUAL                  NaN  \n",
      "39716       INDIVIDUAL                  NaN  \n",
      "\n",
      "[39717 rows x 52 columns]\n"
     ]
    }
   ],
   "source": [
    "df_cleaned_zeros_blanks=df_cleaned_zeros_blanks.dropna(axis=1, how='all')\n",
    "print(df_cleaned_zeros_blanks)"
   ]
  },
  {
   "cell_type": "code",
   "execution_count": 16,
   "id": "3bbdc9b8-20c7-48fa-86c9-9e8ed42a45e6",
   "metadata": {},
   "outputs": [
    {
     "name": "stdout",
     "output_type": "stream",
     "text": [
      "['id', 'member_id', 'loan_amnt', 'funded_amnt', 'funded_amnt_inv', 'term', 'int_rate', 'installment', 'grade', 'sub_grade', 'emp_title', 'emp_length', 'home_ownership', 'annual_inc', 'verification_status', 'issue_d', 'loan_status', 'pymnt_plan', 'url', 'desc', 'purpose', 'title', 'zip_code', 'addr_state', 'dti', 'delinq_2yrs', 'earliest_cr_line', 'inq_last_6mths', 'mths_since_last_delinq', 'mths_since_last_record', 'open_acc', 'pub_rec', 'revol_bal', 'revol_util', 'total_acc', 'initial_list_status', 'out_prncp', 'out_prncp_inv', 'total_pymnt', 'total_pymnt_inv', 'total_rec_prncp', 'total_rec_int', 'total_rec_late_fee', 'recoveries', 'collection_recovery_fee', 'last_pymnt_d', 'last_pymnt_amnt', 'next_pymnt_d', 'last_credit_pull_d', 'policy_code', 'application_type', 'pub_rec_bankruptcies']\n"
     ]
    }
   ],
   "source": [
    "# Get the list of columns\n",
    "print(df_cleaned_zeros_blanks.columns.tolist())"
   ]
  },
  {
   "cell_type": "code",
   "execution_count": 25,
   "id": "f83d166b-1247-4e0c-82a1-5db99b09199a",
   "metadata": {},
   "outputs": [],
   "source": [
    "# Define filter conditions\n",
    "filter1 = df_cleaned_zeros_blanks['loan_status'] == 'Charged Off'\n",
    "filter2 = df_cleaned_zeros_blanks['pub_rec_bankruptcies'] > 0\n",
    "filter3 = df_cleaned_zeros_blanks['delinq_2yrs'] > 0\n",
    "filter4 = (df_cleaned_zeros_blanks['home_ownership'] == 'MORTGAGE') | (df_cleaned_zeros_blanks['home_ownership'] == 'RENT')\n",
    "# Filter rows where last payment date is greater than loan end date\n",
    "filter5 = df_cleaned_zeros_blanks['revol_bal'] > df_cleaned_zeros_blanks['funded_amnt_inv']"
   ]
  },
  {
   "cell_type": "code",
   "execution_count": 26,
   "id": "1c181c67-0964-409d-91c1-a5750f878a04",
   "metadata": {},
   "outputs": [],
   "source": [
    "# Combine conditions using logical AND (&)\n",
    "filtered_loan1 = df_cleaned_zeros_blanks[filter1 & filter2 & filter3 & filter4 & filter5]"
   ]
  },
  {
   "cell_type": "code",
   "execution_count": 27,
   "id": "6074f69f-4000-48f4-a5c3-b913e29bfe4c",
   "metadata": {},
   "outputs": [
    {
     "name": "stdout",
     "output_type": "stream",
     "text": [
      "            id  member_id  loan_amnt  funded_amnt  funded_amnt_inv  \\\n",
      "3156   1024480    1253604       6000         6000       6000.00000   \n",
      "7112    879707    1094682       5000         5000       5000.00000   \n",
      "8710    861878    1074798      10000        10000      10000.00000   \n",
      "11434   814629    1022159       2000         2000       2000.00000   \n",
      "13575   778955     981610       8000         8000       7975.00000   \n",
      "14545   764124     964804       6725         6725       6725.00000   \n",
      "18063   668955     855354       6800         6800       4442.05000   \n",
      "18253   701561     893320       5000         5000       5000.00000   \n",
      "23042   619857     794465       2800         2800       2800.00000   \n",
      "27846   547215     705600       8000         8000       8000.00000   \n",
      "30294   510578     659283      14000        14000      12735.52665   \n",
      "35840   429126     508289      16750        16750      12973.50803   \n",
      "\n",
      "             term int_rate  installment grade sub_grade  ...  \\\n",
      "3156    36 months   10.65%       195.44     B        B2  ...   \n",
      "7112    36 months   14.65%       172.48     C        C3  ...   \n",
      "8710    36 months    8.49%       315.63     A        A5  ...   \n",
      "11434   36 months   11.99%        66.42     B        B5  ...   \n",
      "13575   60 months   18.39%       204.85     E        E2  ...   \n",
      "14545   60 months   17.99%       170.74     E        E1  ...   \n",
      "18063   60 months   16.77%       168.16     E        E2  ...   \n",
      "18253   36 months   10.37%       162.21     B        B3  ...   \n",
      "23042   36 months   13.35%        94.82     C        C4  ...   \n",
      "27846   36 months   15.58%       279.61     D        D3  ...   \n",
      "30294   36 months   16.82%       497.87     E        E2  ...   \n",
      "35840   36 months   20.11%       623.40     G        G5  ...   \n",
      "\n",
      "      total_rec_late_fee recoveries collection_recovery_fee  last_pymnt_d  \\\n",
      "3156                 NaN     357.16                  3.5716        Oct-13   \n",
      "7112                 NaN        NaN                     NaN        Jul-12   \n",
      "8710                 NaN      13.50                     NaN        Dec-13   \n",
      "11434                NaN      22.58                  0.2258        Jun-14   \n",
      "13575                NaN     352.33                  3.4200        Aug-11   \n",
      "14545                NaN      25.28                  4.5504        Mar-15   \n",
      "18063                NaN        NaN                     NaN        Oct-11   \n",
      "18253                NaN        NaN                     NaN        Sep-11   \n",
      "23042                NaN      69.88                  0.8200        Oct-12   \n",
      "27846          14.919231     307.42                  3.1600        Mar-11   \n",
      "30294                NaN     473.32                  4.9300        Jul-13   \n",
      "35840                NaN     891.87                160.5366        Sep-11   \n",
      "\n",
      "      last_pymnt_amnt next_pymnt_d last_credit_pull_d policy_code  \\\n",
      "3156           195.44          NaN             Mar-14           1   \n",
      "7112           172.48          NaN             May-16           1   \n",
      "8710           315.63          NaN             May-16           1   \n",
      "11434           66.42          NaN             Nov-14           1   \n",
      "13575          204.85          NaN             Jan-12           1   \n",
      "14545          170.74          NaN             Apr-16           1   \n",
      "18063          168.16          NaN             May-16           1   \n",
      "18253          162.21          NaN             May-16           1   \n",
      "23042           94.82          NaN             Mar-13           1   \n",
      "27846          562.65          NaN             Sep-11           1   \n",
      "30294          282.36          NaN             May-16           1   \n",
      "35840          623.40          NaN             Feb-12           1   \n",
      "\n",
      "      application_type pub_rec_bankruptcies  \n",
      "3156        INDIVIDUAL                  1.0  \n",
      "7112        INDIVIDUAL                  1.0  \n",
      "8710        INDIVIDUAL                  1.0  \n",
      "11434       INDIVIDUAL                  1.0  \n",
      "13575       INDIVIDUAL                  1.0  \n",
      "14545       INDIVIDUAL                  1.0  \n",
      "18063       INDIVIDUAL                  1.0  \n",
      "18253       INDIVIDUAL                  1.0  \n",
      "23042       INDIVIDUAL                  1.0  \n",
      "27846       INDIVIDUAL                  1.0  \n",
      "30294       INDIVIDUAL                  1.0  \n",
      "35840       INDIVIDUAL                  1.0  \n",
      "\n",
      "[12 rows x 52 columns]\n"
     ]
    }
   ],
   "source": [
    "print(filtered_loan1# Define a function to convert subgrades to a comparable value\n",
    "def subgrade_to_value(subgrade):\n",
    "    grade_mapping = {'A': 1, 'B': 2, 'C': 3, 'D': 4, 'E': 5, 'F': 6, 'G': 7}\n",
    "    if subgrade[0] in grade_mapping:\n",
    "        return grade_mapping[subgrade[0]] * 10 + int(subgrade[1])\n",
    "    else:\n",
    "        return float('inf')  # Handle unexpected subgrades)"
   ]
  },
  {
   "cell_type": "code",
   "execution_count": 28,
   "id": "bfd4715d-4db7-44ee-a055-16c779c0a45d",
   "metadata": {},
   "outputs": [],
   "source": [
    "# Define a function to convert subgrades to a comparable value\n",
    "def subgrade_to_value(subgrade):\n",
    "    grade_mapping = {'A': 1, 'B': 2, 'C': 3, 'D': 4, 'E': 5, 'F': 6, 'G': 7}\n",
    "    if subgrade[0] in grade_mapping:\n",
    "        return grade_mapping[subgrade[0]] * 10 + int(subgrade[1])\n",
    "    else:\n",
    "        return float('inf')  # Handle unexpected subgrades"
   ]
  },
  {
   "cell_type": "code",
   "execution_count": 29,
   "id": "bd654200-dc1b-43a3-bb19-fb20753615d0",
   "metadata": {},
   "outputs": [
    {
     "name": "stderr",
     "output_type": "stream",
     "text": [
      "/var/folders/pd/d_czx5p50yv66byls9q2nmn00000gn/T/ipykernel_43945/2928189424.py:2: SettingWithCopyWarning: \n",
      "A value is trying to be set on a copy of a slice from a DataFrame.\n",
      "Try using .loc[row_indexer,col_indexer] = value instead\n",
      "\n",
      "See the caveats in the documentation: https://pandas.pydata.org/pandas-docs/stable/user_guide/indexing.html#returning-a-view-versus-a-copy\n",
      "  filtered_loan1['subgrade_value'] = filtered_loan1['sub_grade'].apply(subgrade_to_value)\n"
     ]
    }
   ],
   "source": [
    "# Apply the function to create a new column for comparison\n",
    "filtered_loan1['subgrade_value'] = filtered_loan1['sub_grade'].apply(subgrade_to_value)"
   ]
  },
  {
   "cell_type": "code",
   "execution_count": 30,
   "id": "d6444456-d318-4a2d-b34d-323b71c46d8d",
   "metadata": {},
   "outputs": [],
   "source": [
    "# Define the value for D1 (using the same conversion function)\n",
    "threshold_value = subgrade_to_value('D1')"
   ]
  },
  {
   "cell_type": "code",
   "execution_count": 32,
   "id": "2a351e09-98e9-45fa-8d3e-0ce7e07ae448",
   "metadata": {},
   "outputs": [],
   "source": [
    "# Filter rows where the subgrade is greater than D1\n",
    "filtered_df = filtered_loan1[filtered_loan1['subgrade_value'] > threshold_value]"
   ]
  },
  {
   "cell_type": "code",
   "execution_count": 33,
   "id": "166e4666-0216-4b9d-b8f6-84041f2c7ae3",
   "metadata": {},
   "outputs": [
    {
     "name": "stdout",
     "output_type": "stream",
     "text": [
      "           id  member_id  loan_amnt  funded_amnt  funded_amnt_inv        term  \\\n",
      "13575  778955     981610       8000         8000       7975.00000   60 months   \n",
      "14545  764124     964804       6725         6725       6725.00000   60 months   \n",
      "18063  668955     855354       6800         6800       4442.05000   60 months   \n",
      "27846  547215     705600       8000         8000       8000.00000   36 months   \n",
      "30294  510578     659283      14000        14000      12735.52665   36 months   \n",
      "35840  429126     508289      16750        16750      12973.50803   36 months   \n",
      "\n",
      "      int_rate  installment grade sub_grade  ... recoveries  \\\n",
      "13575   18.39%       204.85     E        E2  ...     352.33   \n",
      "14545   17.99%       170.74     E        E1  ...      25.28   \n",
      "18063   16.77%       168.16     E        E2  ...        NaN   \n",
      "27846   15.58%       279.61     D        D3  ...     307.42   \n",
      "30294   16.82%       497.87     E        E2  ...     473.32   \n",
      "35840   20.11%       623.40     G        G5  ...     891.87   \n",
      "\n",
      "      collection_recovery_fee last_pymnt_d  last_pymnt_amnt next_pymnt_d  \\\n",
      "13575                  3.4200       Aug-11           204.85          NaN   \n",
      "14545                  4.5504       Mar-15           170.74          NaN   \n",
      "18063                     NaN       Oct-11           168.16          NaN   \n",
      "27846                  3.1600       Mar-11           562.65          NaN   \n",
      "30294                  4.9300       Jul-13           282.36          NaN   \n",
      "35840                160.5366       Sep-11           623.40          NaN   \n",
      "\n",
      "      last_credit_pull_d policy_code application_type pub_rec_bankruptcies  \\\n",
      "13575             Jan-12           1       INDIVIDUAL                  1.0   \n",
      "14545             Apr-16           1       INDIVIDUAL                  1.0   \n",
      "18063             May-16           1       INDIVIDUAL                  1.0   \n",
      "27846             Sep-11           1       INDIVIDUAL                  1.0   \n",
      "30294             May-16           1       INDIVIDUAL                  1.0   \n",
      "35840             Feb-12           1       INDIVIDUAL                  1.0   \n",
      "\n",
      "      subgrade_value  \n",
      "13575             52  \n",
      "14545             51  \n",
      "18063             52  \n",
      "27846             43  \n",
      "30294             52  \n",
      "35840             75  \n",
      "\n",
      "[6 rows x 53 columns]\n"
     ]
    }
   ],
   "source": [
    "# Display the filtered DataFrame\n",
    "print(filtered_df)"
   ]
  },
  {
   "cell_type": "code",
   "execution_count": 35,
   "id": "cc3bb6ee-90dd-4d99-9f74-c0ba3e4db5d8",
   "metadata": {},
   "outputs": [
    {
     "name": "stderr",
     "output_type": "stream",
     "text": [
      "/var/folders/pd/d_czx5p50yv66byls9q2nmn00000gn/T/ipykernel_43945/956546456.py:2: SettingWithCopyWarning: \n",
      "A value is trying to be set on a copy of a slice from a DataFrame.\n",
      "Try using .loc[row_indexer,col_indexer] = value instead\n",
      "\n",
      "See the caveats in the documentation: https://pandas.pydata.org/pandas-docs/stable/user_guide/indexing.html#returning-a-view-versus-a-copy\n",
      "  filtered_df['revol_util'] = filtered_df['revol_util'].str.replace('%', '').astype(float)\n"
     ]
    }
   ],
   "source": [
    "# Remove the '%' symbol and convert the column to a numeric type\n",
    "filtered_df['revol_util'] = filtered_df['revol_util'].str.replace('%', '').astype(float)"
   ]
  },
  {
   "cell_type": "code",
   "execution_count": 36,
   "id": "3e603c1b-d8d0-4d39-a4be-d8e8125f5ac9",
   "metadata": {},
   "outputs": [
    {
     "name": "stdout",
     "output_type": "stream",
     "text": [
      "           id  member_id  loan_amnt  funded_amnt  funded_amnt_inv        term  \\\n",
      "14545  764124     964804       6725         6725       6725.00000   60 months   \n",
      "18063  668955     855354       6800         6800       4442.05000   60 months   \n",
      "27846  547215     705600       8000         8000       8000.00000   36 months   \n",
      "30294  510578     659283      14000        14000      12735.52665   36 months   \n",
      "35840  429126     508289      16750        16750      12973.50803   36 months   \n",
      "\n",
      "      int_rate  installment grade sub_grade  ... recoveries  \\\n",
      "14545   17.99%       170.74     E        E1  ...      25.28   \n",
      "18063   16.77%       168.16     E        E2  ...        NaN   \n",
      "27846   15.58%       279.61     D        D3  ...     307.42   \n",
      "30294   16.82%       497.87     E        E2  ...     473.32   \n",
      "35840   20.11%       623.40     G        G5  ...     891.87   \n",
      "\n",
      "      collection_recovery_fee last_pymnt_d  last_pymnt_amnt next_pymnt_d  \\\n",
      "14545                  4.5504       Mar-15           170.74          NaN   \n",
      "18063                     NaN       Oct-11           168.16          NaN   \n",
      "27846                  3.1600       Mar-11           562.65          NaN   \n",
      "30294                  4.9300       Jul-13           282.36          NaN   \n",
      "35840                160.5366       Sep-11           623.40          NaN   \n",
      "\n",
      "      last_credit_pull_d policy_code application_type pub_rec_bankruptcies  \\\n",
      "14545             Apr-16           1       INDIVIDUAL                  1.0   \n",
      "18063             May-16           1       INDIVIDUAL                  1.0   \n",
      "27846             Sep-11           1       INDIVIDUAL                  1.0   \n",
      "30294             May-16           1       INDIVIDUAL                  1.0   \n",
      "35840             Feb-12           1       INDIVIDUAL                  1.0   \n",
      "\n",
      "      subgrade_value  \n",
      "14545             51  \n",
      "18063             52  \n",
      "27846             43  \n",
      "30294             52  \n",
      "35840             75  \n",
      "\n",
      "[5 rows x 53 columns]\n"
     ]
    }
   ],
   "source": [
    "# Filter the rows where revol_util is greater than 50%\n",
    "filtered_df = filtered_df[filtered_df['revol_util'] > 50]\n",
    "\n",
    "# Display the filtered DataFrame\n",
    "print(filtered_df)"
   ]
  },
  {
   "cell_type": "code",
   "execution_count": 37,
   "id": "ed243a1f-bbd1-4b3a-8325-96ad8c408d33",
   "metadata": {},
   "outputs": [],
   "source": [
    "# Save the filtered DataFrame back to a CSV file\n",
    "filtered_df.to_csv('filtered_data.csv', index=False)"
   ]
  },
  {
   "cell_type": "code",
   "execution_count": null,
   "id": "62872a53-842d-47d6-b9b3-b2b2ac33908b",
   "metadata": {},
   "outputs": [],
   "source": []
  }
 ],
 "metadata": {
  "kernelspec": {
   "display_name": "Python 3 (ipykernel)",
   "language": "python",
   "name": "python3"
  },
  "language_info": {
   "codemirror_mode": {
    "name": "ipython",
    "version": 3
   },
   "file_extension": ".py",
   "mimetype": "text/x-python",
   "name": "python",
   "nbconvert_exporter": "python",
   "pygments_lexer": "ipython3",
   "version": "3.12.3"
  }
 },
 "nbformat": 4,
 "nbformat_minor": 5
}
